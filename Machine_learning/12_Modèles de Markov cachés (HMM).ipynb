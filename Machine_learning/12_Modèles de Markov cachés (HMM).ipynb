{
 "cells": [
  {
   "cell_type": "markdown",
   "id": "6d2f8496-2003-4b86-806e-47bf060fedf8",
   "metadata": {},
   "source": [
    "<h1 style=\"color:red; text-align:center; text-decoration:underline;\">Modèles de Markov Cachés (HMM)</h1>\n"
   ]
  },
  {
   "cell_type": "markdown",
   "id": "9fbc5aa0-7b8c-41c6-a3cf-497e82ecd592",
   "metadata": {},
   "source": [
    "<h2 style=\"color:green; text-decoration:underline;\">Test 1 : Reconnaissance de séquences simples</h2>\n"
   ]
  },
  {
   "cell_type": "code",
   "execution_count": 16,
   "id": "f651cc20-8067-46b0-b01b-983d0a3058e5",
   "metadata": {},
   "outputs": [
    {
     "name": "stdout",
     "output_type": "stream",
     "text": [
      "Phrase : fish swim in water\n",
      "Tags   : NOUN VERB PREP NOUN\n",
      "----------------------------------------\n",
      "Phrase : cats eat fish\n",
      "Tags   : NOUN VERB NOUN\n",
      "----------------------------------------\n",
      "Phrase : dogs run in park\n",
      "Tags   : NOUN VERB PREP NOUN\n",
      "----------------------------------------\n",
      "Phrase : birds fly over trees\n",
      "Tags   : NOUN VERB PREP NOUN\n",
      "----------------------------------------\n"
     ]
    }
   ],
   "source": [
    "from hmmlearn.hmm import CategoricalHMM\n",
    "import numpy as np\n",
    "\n",
    "# Mots et leur index\n",
    "word_to_idx = {\n",
    "    \"fish\": 0, \"swim\": 1, \"in\": 2, \"water\": 3,\n",
    "    \"cats\": 4, \"eat\": 5, \"dogs\": 6, \"run\": 7,\n",
    "    \"park\": 8, \"birds\": 9, \"fly\": 10, \"over\": 11, \"trees\": 12\n",
    "}\n",
    "idx_to_word = {v: k for k, v in word_to_idx.items()}\n",
    "\n",
    "# Tags grammaticaux\n",
    "tag_to_idx = {\"NOUN\": 0, \"VERB\": 1, \"PREP\": 2}\n",
    "idx_to_tag = {v: k for k, v in tag_to_idx.items()}\n",
    "\n",
    "# Liste de phrases à tester (séquences de mots)\n",
    "phrases = [\n",
    "    [\"fish\", \"swim\", \"in\", \"water\"],\n",
    "    [\"cats\", \"eat\", \"fish\"],\n",
    "    [\"dogs\", \"run\", \"in\", \"park\"],\n",
    "    [\"birds\", \"fly\", \"over\", \"trees\"]\n",
    "]\n",
    "\n",
    "# Initialisation du modèle HMM avec 3 états : NOUN, VERB, PREP\n",
    "model = CategoricalHMM(n_components=3, n_iter=100, random_state=0)\n",
    "\n",
    "# Probabilités initiales des tags\n",
    "model.startprob_ = np.array([0.6, 0.3, 0.1])  # plus de chances que la phrase commence par un nom\n",
    "\n",
    "# Probabilités de transition entre tags (simples mais réalistes)\n",
    "model.transmat_ = np.array([\n",
    "    [0.2, 0.6, 0.2],  # NOUN → NOUN, VERB, PREP\n",
    "    [0.3, 0.3, 0.4],  # VERB →\n",
    "    [0.6, 0.3, 0.1],  # PREP →\n",
    "])\n",
    "\n",
    "# Probabilités d’émission : mot | tag\n",
    "model.emissionprob_ = np.zeros((3, len(word_to_idx)))\n",
    "\n",
    "# NOUNs\n",
    "for word in [\"fish\", \"water\", \"cats\", \"dogs\", \"park\", \"birds\", \"trees\"]:\n",
    "    model.emissionprob_[tag_to_idx[\"NOUN\"], word_to_idx[word]] = 1.0\n",
    "model.emissionprob_[tag_to_idx[\"NOUN\"]] /= model.emissionprob_[tag_to_idx[\"NOUN\"]].sum()\n",
    "\n",
    "# VERBs\n",
    "for word in [\"swim\", \"eat\", \"run\", \"fly\"]:\n",
    "    model.emissionprob_[tag_to_idx[\"VERB\"], word_to_idx[word]] = 1.0\n",
    "model.emissionprob_[tag_to_idx[\"VERB\"]] /= model.emissionprob_[tag_to_idx[\"VERB\"]].sum()\n",
    "\n",
    "# PREPs\n",
    "for word in [\"in\", \"over\"]:\n",
    "    model.emissionprob_[tag_to_idx[\"PREP\"], word_to_idx[word]] = 1.0\n",
    "model.emissionprob_[tag_to_idx[\"PREP\"]] /= model.emissionprob_[tag_to_idx[\"PREP\"]].sum()\n",
    "\n",
    "# Tester chaque phrase\n",
    "for phrase in phrases:\n",
    "    obs = np.array([[word_to_idx[w]] for w in phrase])\n",
    "    logprob, states = model.decode(obs, algorithm=\"viterbi\")\n",
    "    tags = [idx_to_tag[s] for s in states]\n",
    "    print(\"Phrase :\", \" \".join(phrase))\n",
    "    print(\"Tags   :\", \" \".join(tags))\n",
    "    print(\"-\" * 40)\n"
   ]
  },
  {
   "cell_type": "markdown",
   "id": "e7aed0bd-4271-47af-849d-906f5302868f",
   "metadata": {},
   "source": [
    "<h3 style=\"color:#0056b3; text-decoration:underline;\">Résultat</h3>\n",
    "\n",
    "Le modèle HMM a correctement identifié la structure grammaticale des phrases testées en assignant des étiquettes pertinentes (NOUN, VERB, PREP) aux mots.  \n",
    "Grâce à l’algorithme de Viterbi, il a inféré les séquences d’états cachés les plus probables, illustrant la capacité du HMM à modéliser des séquences linguistiques simples de manière fiable et structurée."
   ]
  },
  {
   "cell_type": "code",
   "execution_count": null,
   "id": "3797bb8a-51db-492b-9b0f-496b3ba62927",
   "metadata": {},
   "outputs": [],
   "source": []
  },
  {
   "cell_type": "code",
   "execution_count": null,
   "id": "b5d7f331-332a-4bae-a9e3-bfe6f3beace9",
   "metadata": {},
   "outputs": [],
   "source": []
  },
  {
   "cell_type": "markdown",
   "id": "d3133e58-cd0c-43fe-86cb-f566deab135a",
   "metadata": {},
   "source": [
    "<h2 style=\"color:green; text-decoration:underline;\">Test 2 : Reconnaissance de mots à partir de séquences sonores</h2>\n"
   ]
  },
  {
   "cell_type": "code",
   "execution_count": 17,
   "id": "772467f6-a8de-4eeb-9cea-225f5a313c06",
   "metadata": {},
   "outputs": [
    {
     "name": "stdout",
     "output_type": "stream",
     "text": [
      "🔊 SIMULATION DE RECONNAISSANCE DE MOTS 🔊\n",
      "\n",
      "Sons observés : ha la ra\n",
      "Mot reconnu  : HAR\n",
      "----------------------------------------\n",
      "Sons observés : la ra ha\n",
      "Mot reconnu  : LRH\n",
      "----------------------------------------\n",
      "Sons observés : ra la ha\n",
      "Mot reconnu  : RLH\n",
      "----------------------------------------\n",
      "Sons observés : la la ra\n",
      "Mot reconnu  : LLR\n",
      "----------------------------------------\n",
      "Sons observés : ra ra la\n",
      "Mot reconnu  : RAL\n",
      "----------------------------------------\n"
     ]
    }
   ],
   "source": [
    "from hmmlearn.hmm import CategoricalHMM\n",
    "import numpy as np\n",
    "import random\n",
    "\n",
    "# Étapes cachées = lettres du mot\n",
    "letter_to_idx = {\"H\": 0, \"A\": 1, \"L\": 2, \"R\": 3}\n",
    "idx_to_letter = {v: k for k, v in letter_to_idx.items()}\n",
    "\n",
    "# Sons observables\n",
    "sound_to_idx = {\"ha\": 0, \"la\": 1, \"ra\": 2}\n",
    "idx_to_sound = {v: k for k, v in sound_to_idx.items()}\n",
    "\n",
    "# HMM : 4 états cachés possibles (lettres)\n",
    "model = CategoricalHMM(n_components=4, n_iter=100, random_state=42)\n",
    "model.startprob_ = np.array([0.25, 0.25, 0.25, 0.25])  # uniforme\n",
    "\n",
    "# Transitions simples entre lettres\n",
    "model.transmat_ = np.array([\n",
    "    [0.1, 0.6, 0.2, 0.1],  # H →\n",
    "    [0.2, 0.2, 0.4, 0.2],  # A →\n",
    "    [0.3, 0.3, 0.2, 0.2],  # L →\n",
    "    [0.2, 0.4, 0.3, 0.1],  # R →\n",
    "])\n",
    "\n",
    "# Probabilité qu’un état (lettre) génère un son\n",
    "model.emissionprob_ = np.array([\n",
    "    [0.8, 0.1, 0.1],  # H → ha\n",
    "    [0.3, 0.4, 0.3],  # A → n'importe quel son\n",
    "    [0.1, 0.8, 0.1],  # L → la\n",
    "    [0.1, 0.1, 0.8],  # R → ra\n",
    "])\n",
    "\n",
    "# Liste de séquences sonores à tester\n",
    "phrases_sons = [\n",
    "    [\"ha\", \"la\", \"ra\"],   # HAL ?\n",
    "    [\"la\", \"ra\", \"ha\"],   # LAR ?\n",
    "    [\"ra\", \"la\", \"ha\"],   # RAH ?\n",
    "    [\"la\", \"la\", \"ra\"],   # LLR ?\n",
    "    [\"ra\", \"ra\", \"la\"],   # RRL ?\n",
    "]\n",
    "\n",
    "print(\"🔊 SIMULATION DE RECONNAISSANCE DE MOTS 🔊\\n\")\n",
    "\n",
    "for sounds in phrases_sons:\n",
    "    obs_seq = np.array([[sound_to_idx[s]] for s in sounds])\n",
    "    logprob, states = model.decode(obs_seq, algorithm=\"viterbi\")\n",
    "    lettres = [idx_to_letter[i] for i in states]\n",
    "    print(f\"Sons observés : {' '.join(sounds)}\")\n",
    "    print(f\"Mot reconnu  : {''.join(lettres)}\")\n",
    "    print(\"-\" * 40)\n"
   ]
  },
  {
   "cell_type": "markdown",
   "id": "59d5ea2b-0c83-46c0-9716-af6a56911811",
   "metadata": {},
   "source": [
    "<h3 style=\"color:#0056b3; text-decoration:underline;\">Résultat</h3>\n",
    "Le modèle HMM a été capable de reconnaître des mots à partir de séquences sonores incertaines.  \n",
    "En associant chaque son à une lettre probable à l’aide de l’algorithme de Viterbi, il a reconstruit des mots cohérents malgré l’ambiguïté phonétique.  \n",
    "Ce test montre l'efficacité du HMM dans des tâches de reconnaissance de motifs sonores ou de décodage linguistique."
   ]
  },
  {
   "cell_type": "code",
   "execution_count": null,
   "id": "087de18b-3f1f-4257-a871-21254464e6e1",
   "metadata": {},
   "outputs": [],
   "source": []
  }
 ],
 "metadata": {
  "kernelspec": {
   "display_name": "Python 3 (ipykernel)",
   "language": "python",
   "name": "python3"
  },
  "language_info": {
   "codemirror_mode": {
    "name": "ipython",
    "version": 3
   },
   "file_extension": ".py",
   "mimetype": "text/x-python",
   "name": "python",
   "nbconvert_exporter": "python",
   "pygments_lexer": "ipython3",
   "version": "3.12.7"
  }
 },
 "nbformat": 4,
 "nbformat_minor": 5
}
