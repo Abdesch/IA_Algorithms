{
 "cells": [
  {
   "cell_type": "markdown",
   "id": "da0bb23c-750b-45b7-b8f2-ca6bfab5f3af",
   "metadata": {},
   "source": [
    "<h1 style=\"color:red; text-align:center; text-decoration:underline;\">Réseaux de Capsules (Capsule Networks)</h1>\n"
   ]
  },
  {
   "cell_type": "markdown",
   "id": "203ac284-93f9-4072-ad5d-f5679edf203c",
   "metadata": {},
   "source": [
    "# 📦 Importation des bibliothèques nécessaires\n",
    "Importe TensorFlow pour l'apprentissage automatique, NumPy pour la manipulation des tableaux, et Matplotlib pour l'affichage des images.\n"
   ]
  },
  {
   "cell_type": "code",
   "execution_count": 1,
   "id": "2291399a",
   "metadata": {},
   "outputs": [],
   "source": [
    "import tensorflow as tf\n",
    "from tensorflow.keras import layers\n",
    "import numpy as np\n",
    "import matplotlib.pyplot as plt"
   ]
  },
  {
   "cell_type": "markdown",
   "id": "6a1132e0-b1fc-4a2c-b9f6-21a757c01f15",
   "metadata": {},
   "source": [
    "# 📊 Chargement et préparation du dataset MNIST\n",
    "Télécharge le dataset MNIST (chiffres manuscrits), normalise les images entre 0 et 1 et encode les labels sous forme one-hot pour l'entraînement.\n"
   ]
  },
  {
   "cell_type": "code",
   "execution_count": 2,
   "id": "d2b1495f",
   "metadata": {},
   "outputs": [],
   "source": [
    "(x_train, y_train), (x_test, y_test) = tf.keras.datasets.mnist.load_data()\n",
    "x_train = x_train[..., np.newaxis] / 255.0\n",
    "x_test = x_test[..., np.newaxis] / 255.0\n",
    "y_train_ohe = tf.keras.utils.to_categorical(y_train, 10)\n",
    "y_test_ohe = tf.keras.utils.to_categorical(y_test, 10)"
   ]
  },
  {
   "cell_type": "markdown",
   "id": "34de33c1-eac1-4478-9a3e-1e59fede6c32",
   "metadata": {},
   "source": [
    "# 🧠 Définition du réseau CapsuleNet simplifié\n",
    "Le modèle commence par deux couches de convolution pour extraire les caractéristiques. Les capsules sont ensuite créées et vectorisées. Une capsule est sélectionnée dynamiquement pour la reconstruction. Le modèle est construit avec deux sorties : prédiction de classe (via la norme du vecteur) et reconstruction de l'image.\n"
   ]
  },
  {
   "cell_type": "markdown",
   "id": "5c5dedfd-ed1b-4d95-a44d-163ce87d0cf2",
   "metadata": {},
   "source": [
    "def build_simple_capsnet(input_shape=(28, 28, 1), n_class=10):\n",
    "    inputs = tf.keras.Input(shape=input_shape)\n",
    "    x = layers.Conv2D(256, 9, activation='relu')(inputs)\n",
    "    x = layers.Conv2D(32 * 8, 9, strides=2, activation='relu')(x)\n",
    "    x = layers.Reshape([1152, 8])(x)\n",
    "\n",
    "    x = layers.GlobalAveragePooling1D()(x)\n",
    "    digit_caps = layers.Dense(n_class * 16)(x)\n",
    "    digit_caps = layers.Reshape([n_class, 16])(digit_caps)\n",
    "\n",
    "    length = layers.Lambda(lambda x: tf.norm(x, axis=-1))(digit_caps)\n",
    "\n",
    "    def mask_caps(x):\n",
    "        y = tf.argmax(tf.norm(x, axis=-1), axis=-1)\n",
    "        y_onehot = tf.one_hot(y, depth=n_class)\n",
    "        y_onehot = tf.expand_dims(y_onehot, -1)\n",
    "        masked = tf.reduce_sum(x * y_onehot, axis=1)\n",
    "        return masked\n",
    "\n",
    "    masked = layers.Lambda(mask_caps)(digit_caps)\n",
    "\n",
    "    decoder_input = masked\n",
    "    decoder = layers.Dense(512, activation='relu')(decoder_input)\n",
    "    decoder = layers.Dense(1024, activation='relu')(decoder)\n",
    "    decoder_output = layers.Dense(28 * 28, activation='sigmoid')(decoder)\n",
    "    decoder_output = layers.Reshape([28, 28, 1])(decoder_output)\n",
    "\n",
    "    model = tf.keras.Model(inputs=inputs, outputs=[length, decoder_output])\n",
    "    return model\n",
    "\n",
    "model = build_simple_capsnet()"
   ]
  },
  {
   "cell_type": "markdown",
   "id": "d8915cea-461f-4437-8676-9a0434411a2c",
   "metadata": {},
   "source": [
    "# ⚖️ Définition de la fonction de perte CapsuleNet (margin loss)\n",
    "Utilise une marge pour forcer la capsule correcte à être activée fortement (valeur proche de 1) et les autres à être proches de 0.\n"
   ]
  },
  {
   "cell_type": "code",
   "execution_count": 4,
   "id": "dbf6abed",
   "metadata": {},
   "outputs": [],
   "source": [
    "def margin_loss(y_true, y_pred):\n",
    "    m_plus = 0.9\n",
    "    m_minus = 0.1\n",
    "    lambda_val = 0.5\n",
    "    L = y_true * tf.square(tf.maximum(0., m_plus - y_pred)) + \\\n",
    "        lambda_val * (1 - y_true) * tf.square(tf.maximum(0., y_pred - m_minus))\n",
    "    return tf.reduce_mean(tf.reduce_sum(L, axis=1))"
   ]
  },
  {
   "cell_type": "markdown",
   "id": "4000e331-4341-4740-bbca-94bcfc5876e7",
   "metadata": {},
   "source": [
    "# 🛠️ Compilation du modèle\n",
    "Le modèle est compilé avec l'optimiseur Adam, la fonction de perte personnalisée pour les classes et l'erreur quadratique moyenne pour la reconstruction.\n"
   ]
  },
  {
   "cell_type": "code",
   "execution_count": 5,
   "id": "25b13a4d",
   "metadata": {},
   "outputs": [
    {
     "name": "stdout",
     "output_type": "stream",
     "text": [
      "\u001b[1m469/469\u001b[0m \u001b[32m━━━━━━━━━━━━━━━━━━━━\u001b[0m\u001b[37m\u001b[0m \u001b[1m600s\u001b[0m 1s/step - lambda_loss: 0.5412 - loss: 0.5413 - reshape_2_loss: 0.1954\n"
     ]
    },
    {
     "data": {
      "text/plain": [
       "<keras.src.callbacks.history.History at 0x1dafe6d24b0>"
      ]
     },
     "execution_count": 5,
     "metadata": {},
     "output_type": "execute_result"
    }
   ],
   "source": [
    "model.compile(optimizer='adam',\n",
    "              loss=[margin_loss, 'mse'],\n",
    "              loss_weights=[1., 0.0005])\n",
    "\n",
    "model.fit(x_train, [y_train_ohe, x_train], epochs=1, batch_size=128)"
   ]
  },
  {
   "cell_type": "markdown",
   "id": "1d613b5c-56c5-459c-8b29-c07dd5391d41",
   "metadata": {},
   "source": [
    "# 🚀 Entraînement du modèle\n",
    "Le modèle est entraîné sur 10 époques avec validation sur le jeu de test. L'objectif est de permettre aux capsules d'apprendre à encoder la forme des chiffres.\n"
   ]
  },
  {
   "cell_type": "code",
   "execution_count": 6,
   "id": "5d0add5e",
   "metadata": {},
   "outputs": [
    {
     "name": "stdout",
     "output_type": "stream",
     "text": [
      "Epoch 1/10\n",
      "\u001b[1m469/469\u001b[0m \u001b[32m━━━━━━━━━━━━━━━━━━━━\u001b[0m\u001b[37m\u001b[0m \u001b[1m768s\u001b[0m 2s/step - lambda_loss: 0.1385 - loss: 0.1385 - reshape_2_loss: 0.0666 - val_lambda_loss: 0.0497 - val_loss: 0.0499 - val_reshape_2_loss: 0.0660\n",
      "Epoch 2/10\n",
      "\u001b[1m469/469\u001b[0m \u001b[32m━━━━━━━━━━━━━━━━━━━━\u001b[0m\u001b[37m\u001b[0m \u001b[1m801s\u001b[0m 2s/step - lambda_loss: 0.0439 - loss: 0.0439 - reshape_2_loss: 0.0651 - val_lambda_loss: 0.0329 - val_loss: 0.0331 - val_reshape_2_loss: 0.0634\n",
      "Epoch 3/10\n",
      "\u001b[1m469/469\u001b[0m \u001b[32m━━━━━━━━━━━━━━━━━━━━\u001b[0m\u001b[37m\u001b[0m \u001b[1m779s\u001b[0m 2s/step - lambda_loss: 0.0331 - loss: 0.0331 - reshape_2_loss: 0.0625 - val_lambda_loss: 0.0276 - val_loss: 0.0278 - val_reshape_2_loss: 0.0597\n",
      "Epoch 4/10\n",
      "\u001b[1m469/469\u001b[0m \u001b[32m━━━━━━━━━━━━━━━━━━━━\u001b[0m\u001b[37m\u001b[0m \u001b[1m921s\u001b[0m 2s/step - lambda_loss: 0.0276 - loss: 0.0276 - reshape_2_loss: 0.0590 - val_lambda_loss: 0.0262 - val_loss: 0.0264 - val_reshape_2_loss: 0.0564\n",
      "Epoch 5/10\n",
      "\u001b[1m469/469\u001b[0m \u001b[32m━━━━━━━━━━━━━━━━━━━━\u001b[0m\u001b[37m\u001b[0m \u001b[1m1269s\u001b[0m 3s/step - lambda_loss: 0.0252 - loss: 0.0252 - reshape_2_loss: 0.0561 - val_lambda_loss: 0.0234 - val_loss: 0.0235 - val_reshape_2_loss: 0.0545\n",
      "Epoch 6/10\n",
      "\u001b[1m469/469\u001b[0m \u001b[32m━━━━━━━━━━━━━━━━━━━━\u001b[0m\u001b[37m\u001b[0m \u001b[1m695s\u001b[0m 1s/step - lambda_loss: 0.0227 - loss: 0.0227 - reshape_2_loss: 0.0546 - val_lambda_loss: 0.0214 - val_loss: 0.0216 - val_reshape_2_loss: 0.0535\n",
      "Epoch 7/10\n",
      "\u001b[1m469/469\u001b[0m \u001b[32m━━━━━━━━━━━━━━━━━━━━\u001b[0m\u001b[37m\u001b[0m \u001b[1m690s\u001b[0m 1s/step - lambda_loss: 0.0205 - loss: 0.0205 - reshape_2_loss: 0.0537 - val_lambda_loss: 0.0197 - val_loss: 0.0199 - val_reshape_2_loss: 0.0532\n",
      "Epoch 8/10\n",
      "\u001b[1m469/469\u001b[0m \u001b[32m━━━━━━━━━━━━━━━━━━━━\u001b[0m\u001b[37m\u001b[0m \u001b[1m713s\u001b[0m 2s/step - lambda_loss: 0.0187 - loss: 0.0188 - reshape_2_loss: 0.0536 - val_lambda_loss: 0.0195 - val_loss: 0.0196 - val_reshape_2_loss: 0.0531\n",
      "Epoch 9/10\n",
      "\u001b[1m469/469\u001b[0m \u001b[32m━━━━━━━━━━━━━━━━━━━━\u001b[0m\u001b[37m\u001b[0m \u001b[1m787s\u001b[0m 2s/step - lambda_loss: 0.0174 - loss: 0.0174 - reshape_2_loss: 0.0534 - val_lambda_loss: 0.0180 - val_loss: 0.0181 - val_reshape_2_loss: 0.0529\n",
      "Epoch 10/10\n",
      "\u001b[1m469/469\u001b[0m \u001b[32m━━━━━━━━━━━━━━━━━━━━\u001b[0m\u001b[37m\u001b[0m \u001b[1m755s\u001b[0m 2s/step - lambda_loss: 0.0162 - loss: 0.0162 - reshape_2_loss: 0.0532 - val_lambda_loss: 0.0186 - val_loss: 0.0187 - val_reshape_2_loss: 0.0529\n"
     ]
    },
    {
     "data": {
      "text/plain": [
       "<keras.src.callbacks.history.History at 0x1da81e21730>"
      ]
     },
     "execution_count": 6,
     "metadata": {},
     "output_type": "execute_result"
    }
   ],
   "source": [
    "model.compile(optimizer='adam',\n",
    "              loss=[margin_loss, 'mse'],\n",
    "              loss_weights=[1., 0.0005])\n",
    "\n",
    "model.fit(\n",
    "    x_train, [y_train_ohe, x_train],\n",
    "    validation_data=(x_test, [y_test_ohe, x_test]),\n",
    "    epochs=10,\n",
    "    batch_size=128\n",
    ")"
   ]
  },
  {
   "cell_type": "markdown",
   "id": "4ad1980b-7828-4187-b125-e4b9bd68f184",
   "metadata": {},
   "source": [
    "# 🖼️ Visualisation : images originales vs reconstructions\n",
    "Affiche 5 images du test avec leur prédiction (capsule activée) et leur reconstruction. Permet d’évaluer visuellement la qualité d’encodage des capsules.\n"
   ]
  },
  {
   "cell_type": "code",
   "execution_count": 7,
   "id": "c6b9be5c",
   "metadata": {},
   "outputs": [
    {
     "name": "stdout",
     "output_type": "stream",
     "text": [
      "\u001b[1m1/1\u001b[0m \u001b[32m━━━━━━━━━━━━━━━━━━━━\u001b[0m\u001b[37m\u001b[0m \u001b[1m0s\u001b[0m 258ms/step\n"
     ]
    },
    {
     "data": {
      "image/png": "[encoded data removed]",
      "text/plain": [
       "<Figure size 1000x400 with 10 Axes>"
      ]
     },
     "metadata": {},
     "output_type": "display_data"
    }
   ],
   "source": [
    "def plot_reconstructions(model, data, n_images=5):\n",
    "    x_test, y_test = data\n",
    "    x_sample = x_test[:n_images]\n",
    "    y_true = y_test[:n_images]\n",
    "    y_pred, x_reconstructed = model.predict(x_sample)\n",
    "    y_pred_labels = y_pred.argmax(axis=1)\n",
    "\n",
    "    fig = plt.figure(figsize=(n_images * 2, 4))\n",
    "    for i in range(n_images):\n",
    "        ax = fig.add_subplot(2, n_images, i + 1)\n",
    "        ax.imshow(x_sample[i].reshape(28, 28), cmap=\"gray\")\n",
    "        ax.set_title(f\"Vrai: {y_true[i]}\")\n",
    "        ax.axis(\"off\")\n",
    "\n",
    "        ax = fig.add_subplot(2, n_images, i + 1 + n_images)\n",
    "        ax.imshow(x_reconstructed[i].reshape(28, 28), cmap=\"gray\")\n",
    "        ax.set_title(f\"Prédit: {y_pred_labels[i]}\")\n",
    "        ax.axis(\"off\")\n",
    "    plt.tight_layout()\n",
    "    plt.savefig(\"reconstructions_mnist_capsnet.png\")\n",
    "    plt.show()\n",
    "\n",
    "plot_reconstructions(model, (x_test, y_test))"
   ]
  },
  {
   "cell_type": "markdown",
   "id": "ad9db683-161b-4384-a13e-1ee91ea49637",
   "metadata": {},
   "source": [
    "<h3 style=\"color:#0056b3; text-decoration:underline;\">Résultat et Interprétation</h3>\n",
    "\n",
    "Cette expérimentation illustre le fonctionnement d’un réseau de capsules (CapsuleNet) appliqué à la classification des chiffres manuscrits du jeu MNIST.  \n",
    "L’architecture repose sur des capsules vectorielles capables d’encoder non seulement la probabilité d’appartenance à une classe (via la norme du vecteur), mais également des informations spatiales telles que l’orientation, la position ou encore la morphologie du chiffre.\n",
    "\n",
    "La première ligne de visualisation présente les images originales, tandis que la seconde montre les reconstructions générées à partir des vecteurs produits par les capsules activées.  \n",
    "Chaque reconstruction est obtenue à partir de la capsule correspondant à la classe prédite, et témoigne de la capacité du réseau à reproduire les caractéristiques essentielles de l’image d’origine.\n",
    "\n",
    "On observe que les reconstructions sont visuellement cohérentes et structurellement proches des entrées, ce qui indique que CapsuleNet a su apprendre des représentations significatives et exploitables.  \n",
    "Ce comportement met en évidence l’un des principaux atouts de cette architecture : la préservation explicite des relations hiérarchiques entre les parties d’un objet, là où les réseaux convolutifs classiques se contentent de filtrer localement.\n",
    "\n",
    "En somme, CapsuleNet dépasse le cadre de la simple classification en fournissant une représentation explicite de la structure des objets.  \n",
    "Il se positionne ainsi comme une alternative robuste et interprétable aux CNN traditionnels, particulièrement adaptée aux tâches où la compréhension spatiale joue un rôle central.\n"
   ]
  },
  {
   "cell_type": "code",
   "execution_count": null,
   "id": "f8678cc5-3058-4fbc-bb21-86498a1faa37",
   "metadata": {},
   "outputs": [],
   "source": []
  }
 ],
 "metadata": {
  "kernelspec": {
   "display_name": "Python 3 (ipykernel)",
   "language": "python",
   "name": "python3"
  },
  "language_info": {
   "codemirror_mode": {
    "name": "ipython",
    "version": 3
   },
   "file_extension": ".py",
   "mimetype": "text/x-python",
   "name": "python",
   "nbconvert_exporter": "python",
   "pygments_lexer": "ipython3",
   "version": "3.12.7"
  }
 },
 "nbformat": 4,
 "nbformat_minor": 5
}
